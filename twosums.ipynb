{
 "cells": [
  {
   "cell_type": "code",
   "execution_count": 1,
   "metadata": {},
   "outputs": [],
   "source": [
    "array = [3, 5, -4, 8, 11, 1, -1, 6]\n",
    "targetSum = 10"
   ]
  },
  {
   "cell_type": "code",
   "execution_count": 12,
   "metadata": {},
   "outputs": [],
   "source": [
    "def twoNumberSum(array, targetSum):\n",
    "    for i in range(len(array)):\n",
    "        firstNum = array[i]\n",
    "        for j in range(i + 1, len(array)):\n",
    "            secondNum = array[j]\n",
    "            if firstNum + secondNum == targetSum:\n",
    "                return [firstNum, secondNum]\n",
    "    return []"
   ]
  },
  {
   "cell_type": "code",
   "execution_count": 13,
   "metadata": {},
   "outputs": [
    {
     "name": "stdout",
     "output_type": "stream",
     "text": [
      "3\n",
      "5\n",
      "-4\n",
      "8\n",
      "11\n",
      "1\n",
      "-1\n",
      "6\n"
     ]
    }
   ],
   "source": [
    "twoNumberSum(array, targetSum)"
   ]
  }
 ],
 "metadata": {
  "kernelspec": {
   "display_name": "algo_grind-lbIlTKvT",
   "language": "python",
   "name": "python3"
  },
  "language_info": {
   "codemirror_mode": {
    "name": "ipython",
    "version": 3
   },
   "file_extension": ".py",
   "mimetype": "text/x-python",
   "name": "python",
   "nbconvert_exporter": "python",
   "pygments_lexer": "ipython3",
   "version": "3.10.9"
  },
  "orig_nbformat": 4
 },
 "nbformat": 4,
 "nbformat_minor": 2
}
