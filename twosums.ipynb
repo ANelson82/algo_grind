{
 "cells": [
  {
   "cell_type": "code",
   "execution_count": 50,
   "metadata": {},
   "outputs": [],
   "source": [
    "array = [3, 5, -4, 8, 11, 1, -1, 6]\n",
    "targetSum = 10"
   ]
  },
  {
   "cell_type": "code",
   "execution_count": 52,
   "metadata": {},
   "outputs": [],
   "source": [
    "def twoNumberSum(array, targetSum):                 # declares the function and 2 inputs\n",
    "    for i in range(0, len(array)):                  # creates pointer #1, returns a sequence of integers that stops at the # of items in array (8)\n",
    "        firstNum = array[i]                         # assigning firstNum variable by extracting out the pointer's position in the array\n",
    "        for j in range(i + 1, len(array)):          # creates pointer #2, returns a sequence of intergers that starts 1 ahead of pointer #1, and stops at the end of \n",
    "            secondNum = array[j]                    # assigning firstNum variable by extracting out the pointer's position in the array\n",
    "            if firstNum + secondNum == targetSum:   # if condition where true\n",
    "                return [firstNum, secondNum]        # return the array\n",
    "    return []\n",
    "\n"
   ]
  },
  {
   "cell_type": "code",
   "execution_count": 54,
   "metadata": {},
   "outputs": [
    {
     "data": {
      "text/plain": [
       "[11, -1]"
      ]
     },
     "execution_count": 54,
     "metadata": {},
     "output_type": "execute_result"
    }
   ],
   "source": [
    "twoNumberSum(array, targetSum)"
   ]
  },
  {
   "cell_type": "code",
   "execution_count": 37,
   "metadata": {},
   "outputs": [
    {
     "name": "stdout",
     "output_type": "stream",
     "text": [
      "[3, 5]\n",
      "[3, -4]\n",
      "[3, 8]\n",
      "[3, 11]\n",
      "[3, 1]\n",
      "[3, -1]\n",
      "[3, 6]\n",
      "[5, -4]\n",
      "[5, 8]\n",
      "[5, 11]\n",
      "[5, 1]\n",
      "[5, -1]\n",
      "[5, 6]\n",
      "[-4, 8]\n",
      "[-4, 11]\n",
      "[-4, 1]\n",
      "[-4, -1]\n",
      "[-4, 6]\n",
      "[8, 11]\n",
      "[8, 1]\n",
      "[8, -1]\n",
      "[8, 6]\n",
      "[11, 1]\n",
      "[11, -1]\n",
      "[11, 6]\n",
      "[1, -1]\n",
      "[1, 6]\n",
      "[-1, 6]\n"
     ]
    }
   ],
   "source": [
    "for i in range(len(array)):\n",
    "    firstNum = array[i]\n",
    "    for j in range(i+1, len(array)):\n",
    "        secondNum = array[j]\n",
    "        print([firstNum, secondNum])"
   ]
  },
  {
   "cell_type": "code",
   "execution_count": 16,
   "metadata": {},
   "outputs": [],
   "source": [
    "def twoNumberSum(array, targetSum):\n",
    "    for i in range(len(array)):\n",
    "        firstNum = array[i]\n",
    "        for j in range(i + 1, len(array)):\n",
    "            secondNum = array[j]\n",
    "            if firstNum + secondNum == targetSum:\n",
    "                return [firstNum, secondNum]\n",
    "    return []"
   ]
  },
  {
   "cell_type": "code",
   "execution_count": 18,
   "metadata": {},
   "outputs": [
    {
     "data": {
      "text/plain": [
       "[11, -1]"
      ]
     },
     "execution_count": 18,
     "metadata": {},
     "output_type": "execute_result"
    }
   ],
   "source": [
    "twoNumberSum(array, targetSum)"
   ]
  }
 ],
 "metadata": {
  "kernelspec": {
   "display_name": "algo_grind-lbIlTKvT",
   "language": "python",
   "name": "python3"
  },
  "language_info": {
   "codemirror_mode": {
    "name": "ipython",
    "version": 3
   },
   "file_extension": ".py",
   "mimetype": "text/x-python",
   "name": "python",
   "nbconvert_exporter": "python",
   "pygments_lexer": "ipython3",
   "version": "3.10.9"
  },
  "orig_nbformat": 4
 },
 "nbformat": 4,
 "nbformat_minor": 2
}
