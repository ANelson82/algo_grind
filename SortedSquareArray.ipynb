{
 "cells": [
  {
   "cell_type": "code",
   "execution_count": 1,
   "metadata": {},
   "outputs": [],
   "source": [
    "array = [1, 2, 3, 5, 6, 8, 9]"
   ]
  },
  {
   "cell_type": "code",
   "execution_count": 2,
   "metadata": {},
   "outputs": [],
   "source": [
    "#dumb dumb answer\n",
    "def sortedSquaredArray(array):\n",
    "    newarray = []\n",
    "    for i in array:\n",
    "        newarray.append(i**2)\n",
    "    print(newarray) "
   ]
  },
  {
   "cell_type": "code",
   "execution_count": 11,
   "metadata": {},
   "outputs": [
    {
     "data": {
      "text/plain": [
       "[1, 4, 9, 25, 36, 64, 81]"
      ]
     },
     "execution_count": 11,
     "metadata": {},
     "output_type": "execute_result"
    }
   ],
   "source": [
    "sortedSquaredArray(array)"
   ]
  },
  {
   "cell_type": "code",
   "execution_count": 8,
   "metadata": {},
   "outputs": [],
   "source": [
    "# using a list comprehension\n",
    "def sortedSquaredArray(array):\n",
    "    newarray = [i**2 for i in array]\n",
    "    return sorted(newarray)"
   ]
  },
  {
   "cell_type": "code",
   "execution_count": 10,
   "metadata": {},
   "outputs": [],
   "source": [
    "# brute force #1 O(log)n\n",
    "def sortedSquaredArray(array):\n",
    "    sortedSquares = [0 for _ in array]\n",
    "\n",
    "    for idx in range(len(array)):\n",
    "        value = array[idx]\n",
    "        sortedSquares[idx] = value * value \n",
    "    \n",
    "    sortedSquares.sort()\n",
    "    return sortedSquares"
   ]
  },
  {
   "cell_type": "code",
   "execution_count": 6,
   "metadata": {},
   "outputs": [
    {
     "data": {
      "text/plain": [
       "[0, 0, 0, 0, 0, 0, 0]"
      ]
     },
     "execution_count": 6,
     "metadata": {},
     "output_type": "execute_result"
    }
   ],
   "source": [
    "[0 for x in array]"
   ]
  },
  {
   "cell_type": "code",
   "execution_count": 7,
   "metadata": {},
   "outputs": [],
   "source": [
    "# O(n)\n"
   ]
  }
 ],
 "metadata": {
  "kernelspec": {
   "display_name": "algo_grind-lbIlTKvT",
   "language": "python",
   "name": "python3"
  },
  "language_info": {
   "codemirror_mode": {
    "name": "ipython",
    "version": 3
   },
   "file_extension": ".py",
   "mimetype": "text/x-python",
   "name": "python",
   "nbconvert_exporter": "python",
   "pygments_lexer": "ipython3",
   "version": "3.11.2"
  },
  "orig_nbformat": 4
 },
 "nbformat": 4,
 "nbformat_minor": 2
}
